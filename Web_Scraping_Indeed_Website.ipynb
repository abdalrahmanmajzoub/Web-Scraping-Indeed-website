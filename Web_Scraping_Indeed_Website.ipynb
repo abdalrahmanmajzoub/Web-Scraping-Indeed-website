{
  "nbformat": 4,
  "nbformat_minor": 0,
  "metadata": {
    "colab": {
      "name": "Web Scraping Indeed Website.ipynb",
      "provenance": [],
      "collapsed_sections": [],
      "authorship_tag": "ABX9TyMX1DBTZ0x94vDyHO6Nz4hm",
      "include_colab_link": true
    },
    "kernelspec": {
      "name": "python3",
      "display_name": "Python 3"
    },
    "language_info": {
      "name": "python"
    }
  },
  "cells": [
    {
      "cell_type": "markdown",
      "metadata": {
        "id": "view-in-github",
        "colab_type": "text"
      },
      "source": [
        "<a href=\"https://colab.research.google.com/github/abdalrahmanmajzoub/Web-Scraping-Indeed-website/blob/main/Web_Scraping_Indeed_Website.ipynb\" target=\"_parent\"><img src=\"https://colab.research.google.com/assets/colab-badge.svg\" alt=\"Open In Colab\"/></a>"
      ]
    },
    {
      "cell_type": "code",
      "metadata": {
        "colab": {
          "base_uri": "https://localhost:8080/"
        },
        "id": "_Ops54Mye53D",
        "outputId": "b784790d-16e6-4217-fe94-42aeae40f2a9"
      },
      "source": [
        "#installing required libraries\n",
        "!pip install bs4\n",
        "!pip install requests"
      ],
      "execution_count": null,
      "outputs": [
        {
          "output_type": "stream",
          "name": "stdout",
          "text": [
            "Requirement already satisfied: bs4 in /usr/local/lib/python3.7/dist-packages (0.0.1)\n",
            "Requirement already satisfied: beautifulsoup4 in /usr/local/lib/python3.7/dist-packages (from bs4) (4.6.3)\n",
            "Requirement already satisfied: requests in /usr/local/lib/python3.7/dist-packages (2.23.0)\n",
            "Requirement already satisfied: urllib3!=1.25.0,!=1.25.1,<1.26,>=1.21.1 in /usr/local/lib/python3.7/dist-packages (from requests) (1.24.3)\n",
            "Requirement already satisfied: certifi>=2017.4.17 in /usr/local/lib/python3.7/dist-packages (from requests) (2021.5.30)\n",
            "Requirement already satisfied: idna<3,>=2.5 in /usr/local/lib/python3.7/dist-packages (from requests) (2.10)\n",
            "Requirement already satisfied: chardet<4,>=3.0.2 in /usr/local/lib/python3.7/dist-packages (from requests) (3.0.4)\n"
          ]
        }
      ]
    },
    {
      "cell_type": "code",
      "metadata": {
        "id": "CmHzv-p0l5pg"
      },
      "source": [
        "#import required libraries\n",
        "import pandas as pd\n",
        "import csv\n",
        "from datetime import datetime\n",
        "import requests\n",
        "from bs4 import BeautifulSoup\n",
        "\n",
        "#prepare the link\n",
        "def get_url(postition , location):\n",
        "  template = 'https://www.indeed.com/jobs?q={}&l={}'\n",
        "  url = template.format(postition, location)\n",
        "  #print(url)\n",
        "  return url\n",
        "\n",
        "#get jobs records from html tags using BeautifulSoup library\n",
        "def get_record(card):\n",
        "  job_title= card.find('span' , {'title': True}).text.strip()\n",
        "  company_name = card.find('span' , {'class':'companyName'}).text.strip()\n",
        "  company_location = card.find('div' , {'class':'companyLocation'}).text.strip()\n",
        "  job_summary = card.find('div' , {'class':'job-snippet'}).text.strip()\n",
        "  job_link = 'https://www.indeed.com'+card.get('href')\n",
        "  try:\n",
        "    job_salary = card.find('span' , {'class':'salary-snippet'}).text.strip()\n",
        "  except AttributeError:\n",
        "    job_salary = ''\n",
        "  \n",
        "  record = (job_title,company_name,company_location,job_summary,job_salary,job_link)\n",
        "\n",
        "  return record\n",
        "\n",
        "def main(position,location):\n",
        "  records = []\n",
        "  print(position)\n",
        "  print(location)\n",
        "  url = get_url(position, location)\n",
        "\n",
        "  while True:\n",
        "      response = requests.get(url)\n",
        "      #print(response)\n",
        "      soup = BeautifulSoup(response.text,'html.parser')\n",
        "      cards = soup.find_all('a' , {'data-hide-spinner':\"true\"})\n",
        "      for card in cards:\n",
        "        record = get_record(card)\n",
        "        #print(record)\n",
        "        records.append(record)\n",
        "        #print(len(records))\n",
        "      try:\n",
        "        url = 'https://www.indeed.com'+ soup.find('a', {'aria-label':'Next'}).get('href')\n",
        "      except AttributeError:\n",
        "        break\n",
        "      \n",
        "      with open('resault5.csv' , 'w' , newline='' , encoding='utf-8') as f:\n",
        "        writer = csv.writer(f)\n",
        "        writer.writerows(['job_title','company_name','company_location','job_summary','job_salary','job_link'])\n",
        "        writer.writerows(records)\n",
        "\n",
        "  indeed_data = pd.DataFrame(columns=['job_title','company_name','company_location','job_summary','job_salary','job_link'])\n",
        "  for x in records:\n",
        "    j_title = x[0]\n",
        "    j_cn = x[1]\n",
        "    j_cl = x[2]\n",
        "    j_s = x[3]\n",
        "    j_sal = x[4]\n",
        "    j_l = x[5]\n",
        "    indeed_data = indeed_data.append({\"job_title\":j_title, \"company_name\":j_cn, \"company_location\":j_cl, \"job_summary\":j_s, \"job_salary\":j_sal, \"job_link\":j_l}, ignore_index=True)\n",
        "  return indeed_data\n",
        "\n"
      ],
      "execution_count": 11,
      "outputs": []
    },
    {
      "cell_type": "code",
      "metadata": {
        "id": "-hO1mx8JoqHJ",
        "colab": {
          "base_uri": "https://localhost:8080/"
        },
        "outputId": "36f47ef0-8651-43b6-fa31-6778a3e942e7"
      },
      "source": [
        "df_data = main('Data Science', '')"
      ],
      "execution_count": 12,
      "outputs": [
        {
          "output_type": "stream",
          "name": "stdout",
          "text": [
            "Data Science\n",
            "\n"
          ]
        }
      ]
    },
    {
      "cell_type": "code",
      "metadata": {
        "colab": {
          "base_uri": "https://localhost:8080/"
        },
        "id": "CZJZhFIZp5Dz",
        "outputId": "0e157430-2d83-494f-d696-222d1c65674d"
      },
      "source": [
        "df_data.shape"
      ],
      "execution_count": 13,
      "outputs": [
        {
          "output_type": "execute_result",
          "data": {
            "text/plain": [
              "(998, 6)"
            ]
          },
          "metadata": {},
          "execution_count": 13
        }
      ]
    },
    {
      "cell_type": "code",
      "metadata": {
        "id": "otBbw0mutrqi",
        "colab": {
          "base_uri": "https://localhost:8080/"
        },
        "outputId": "9ed5e5d6-5b44-4fe5-a806-fce75c57abdb"
      },
      "source": [
        "df_data.columns"
      ],
      "execution_count": 14,
      "outputs": [
        {
          "output_type": "execute_result",
          "data": {
            "text/plain": [
              "Index(['job_title', 'company_name', 'company_location', 'job_summary',\n",
              "       'job_salary', 'job_link'],\n",
              "      dtype='object')"
            ]
          },
          "metadata": {},
          "execution_count": 14
        }
      ]
    },
    {
      "cell_type": "code",
      "metadata": {
        "id": "iuFXlSYfI-NZ",
        "colab": {
          "base_uri": "https://localhost:8080/",
          "height": 289
        },
        "outputId": "450dc460-6161-4083-bd38-d9cf10df1a0c"
      },
      "source": [
        "df_data.head()"
      ],
      "execution_count": 15,
      "outputs": [
        {
          "output_type": "execute_result",
          "data": {
            "text/html": [
              "<div>\n",
              "<style scoped>\n",
              "    .dataframe tbody tr th:only-of-type {\n",
              "        vertical-align: middle;\n",
              "    }\n",
              "\n",
              "    .dataframe tbody tr th {\n",
              "        vertical-align: top;\n",
              "    }\n",
              "\n",
              "    .dataframe thead th {\n",
              "        text-align: right;\n",
              "    }\n",
              "</style>\n",
              "<table border=\"1\" class=\"dataframe\">\n",
              "  <thead>\n",
              "    <tr style=\"text-align: right;\">\n",
              "      <th></th>\n",
              "      <th>job_title</th>\n",
              "      <th>company_name</th>\n",
              "      <th>company_location</th>\n",
              "      <th>job_summary</th>\n",
              "      <th>job_salary</th>\n",
              "      <th>job_link</th>\n",
              "    </tr>\n",
              "  </thead>\n",
              "  <tbody>\n",
              "    <tr>\n",
              "      <th>0</th>\n",
              "      <td>Subject Matter Expert, Data Science</td>\n",
              "      <td>National Security Agency</td>\n",
              "      <td>Fort Meade, MD+1 location</td>\n",
              "      <td>Expertise in applied data science and machine ...</td>\n",
              "      <td>Up to $183,300 a year</td>\n",
              "      <td>https://www.indeed.com/pagead/clk?mo=r&amp;ad=-6NY...</td>\n",
              "    </tr>\n",
              "    <tr>\n",
              "      <th>1</th>\n",
              "      <td>Entry Level Data Scientist: 2022</td>\n",
              "      <td>IBM</td>\n",
              "      <td>Research Triangle Park, NC 27709+2 locations</td>\n",
              "      <td>You will implement and validate predictive mod...</td>\n",
              "      <td></td>\n",
              "      <td>https://www.indeed.com/rc/clk?jk=d9dc2b2ff8863...</td>\n",
              "    </tr>\n",
              "    <tr>\n",
              "      <th>2</th>\n",
              "      <td>Remote Data Scientist (contract)</td>\n",
              "      <td>Pfizer</td>\n",
              "      <td>+3 locationsRemote</td>\n",
              "      <td>Benchmark internal and public repositories for...</td>\n",
              "      <td></td>\n",
              "      <td>https://www.indeed.com/rc/clk?jk=4e7590a713871...</td>\n",
              "    </tr>\n",
              "    <tr>\n",
              "      <th>3</th>\n",
              "      <td>Data Scientist/Analytics Entry Level Full Time...</td>\n",
              "      <td>Cummins Inc.</td>\n",
              "      <td>Columbus, IN+2 locations•Remote</td>\n",
              "      <td>Develops data profiles for data tables and ele...</td>\n",
              "      <td></td>\n",
              "      <td>https://www.indeed.com/rc/clk?jk=44ab675983c2b...</td>\n",
              "    </tr>\n",
              "    <tr>\n",
              "      <th>4</th>\n",
              "      <td>Entry Level Data Analyst</td>\n",
              "      <td>FieldLevel</td>\n",
              "      <td>California•Remote</td>\n",
              "      <td>BS or higher in data science related field.\\nA...</td>\n",
              "      <td></td>\n",
              "      <td>https://www.indeed.com/rc/clk?jk=f7a086d756a6f...</td>\n",
              "    </tr>\n",
              "  </tbody>\n",
              "</table>\n",
              "</div>"
            ],
            "text/plain": [
              "                                           job_title  ...                                           job_link\n",
              "0                Subject Matter Expert, Data Science  ...  https://www.indeed.com/pagead/clk?mo=r&ad=-6NY...\n",
              "1                   Entry Level Data Scientist: 2022  ...  https://www.indeed.com/rc/clk?jk=d9dc2b2ff8863...\n",
              "2                   Remote Data Scientist (contract)  ...  https://www.indeed.com/rc/clk?jk=4e7590a713871...\n",
              "3  Data Scientist/Analytics Entry Level Full Time...  ...  https://www.indeed.com/rc/clk?jk=44ab675983c2b...\n",
              "4                           Entry Level Data Analyst  ...  https://www.indeed.com/rc/clk?jk=f7a086d756a6f...\n",
              "\n",
              "[5 rows x 6 columns]"
            ]
          },
          "metadata": {},
          "execution_count": 15
        }
      ]
    },
    {
      "cell_type": "code",
      "metadata": {
        "colab": {
          "base_uri": "https://localhost:8080/"
        },
        "id": "j1baSAikxayj",
        "outputId": "4b353ea4-ac8f-4c9b-9b3d-431ef196bee7"
      },
      "source": [
        "print(max(df_data['job_salary']))"
      ],
      "execution_count": 16,
      "outputs": [
        {
          "output_type": "stream",
          "name": "stdout",
          "text": [
            "Up to $65,000 a year\n"
          ]
        }
      ]
    },
    {
      "cell_type": "code",
      "metadata": {
        "id": "YQwTk4EWxgV4"
      },
      "source": [
        ""
      ],
      "execution_count": null,
      "outputs": []
    }
  ]
}